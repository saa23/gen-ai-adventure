{
 "cells": [
  {
   "cell_type": "code",
   "execution_count": 10,
   "metadata": {},
   "outputs": [],
   "source": [
    "from openai import OpenAI\n",
    "import IPython\n",
    "from dotenv import load_dotenv\n",
    "import os\n",
    "\n",
    "load_dotenv()\n",
    "openai_api_key = os.getenv(\"OPENAI_API_KEY\")\n",
    "serpapi_api_key = os.getenv(\"SERPAPI_API_KEY\")\n",
    "\n",
    "client = OpenAI()"
   ]
  },
  {
   "cell_type": "code",
   "execution_count": 11,
   "metadata": {},
   "outputs": [],
   "source": [
    "def get_completion(messages,  model=\"gpt-3.5-turbo\", temperature=0, max_tokens=300):\n",
    "    response = client.chat.completions.create(\n",
    "        model=model,\n",
    "        messages=messages,\n",
    "        temperature=temperature,\n",
    "        max_tokens=max_tokens,\n",
    "    )\n",
    "    return response.choices[0].message.content"
   ]
  },
  {
   "cell_type": "markdown",
   "metadata": {},
   "source": [
    "## 1. Few-shot In-context Learning"
   ]
  },
  {
   "cell_type": "markdown",
   "metadata": {},
   "source": [
    "### With"
   ]
  },
  {
   "cell_type": "code",
   "execution_count": 12,
   "metadata": {},
   "outputs": [
    {
     "name": "stdout",
     "output_type": "stream",
     "text": [
      "non-offensive\n"
     ]
    }
   ],
   "source": [
    "prompt = \"\"\"Your task is to classify an input text (delimited by ```) as either offensive or non-offensive.\n",
    "\n",
    "Use the following examples to help with steering your responses:\n",
    "\n",
    "Text: I love you\n",
    "Output: non-offensive\n",
    "\n",
    "Text: I dislike all those people working at the company\n",
    "Output: offensive\n",
    "\n",
    "Text: I think this feature is not ideal\n",
    "Output: non-offensive\n",
    "\n",
    "Text: Those people are so stupid\n",
    "Output: offensive\n",
    "\n",
    "Text: {user_input}\n",
    "Output:\n",
    "\"\"\"\n",
    "\n",
    "message = [\n",
    "    {\n",
    "        \"role\": \"user\",\n",
    "        \"content\": prompt.format(user_input=\"```I respectfully disagree with your opinion.```\")\n",
    "    }\n",
    "]\n",
    "\n",
    "\n",
    "response = get_completion(message)\n",
    "print(response)"
   ]
  },
  {
   "cell_type": "markdown",
   "metadata": {},
   "source": [
    "### Without"
   ]
  },
  {
   "cell_type": "code",
   "execution_count": 13,
   "metadata": {},
   "outputs": [
    {
     "name": "stdout",
     "output_type": "stream",
     "text": [
      "To classify an input text as either offensive or non-offensive, you can use a machine learning model trained on a labeled dataset. The model should be able to predict the class of a given text based on its features.\n",
      "\n",
      "Here is a high-level approach to accomplish this task:\n",
      "\n",
      "1. Data Collection: Gather a dataset of labeled offensive and non-offensive texts. You can manually label the data or use existing datasets available online.\n",
      "\n",
      "2. Data Preprocessing: Clean and preprocess the text data by removing any irrelevant information, special characters, or stopwords. Convert the text into a numerical representation suitable for machine learning algorithms, such as word embeddings or TF-IDF vectors.\n",
      "\n",
      "3. Model Training: Select a suitable machine learning algorithm, such as a Support Vector Machine (SVM), Naive Bayes, or a deep learning model like a Recurrent Neural Network (RNN) or a Transformer. Split the dataset into training and validation sets, and train the model on the training data.\n",
      "\n",
      "4. Model Evaluation: Evaluate the trained model's performance on the validation set using appropriate evaluation metrics like accuracy, precision, recall, or F1 score. Tweak the model's hyperparameters or try different algorithms if necessary to improve performance.\n",
      "\n",
      "5. Deployment: Once you have a satisfactory model, you can deploy it as an API or integrate it into your application to classify new input texts as offensive or non-offensive.\n",
      "\n",
      "Remember to continuously monitor and update your model as new data becomes available to ensure its accuracy and effectiveness in\n"
     ]
    }
   ],
   "source": [
    "prompt = \"\"\"Your task is to classify an input text (delimited by ```) as either offensive or non-offensive.\n",
    "\"\"\"\n",
    "\n",
    "message = [\n",
    "    {\n",
    "        \"role\": \"user\",\n",
    "        \"content\": prompt.format(user_input=\"```I respectfully disagree with your opinion.```\")\n",
    "    }\n",
    "]\n",
    "\n",
    "\n",
    "response = get_completion(message)\n",
    "print(response)"
   ]
  },
  {
   "cell_type": "markdown",
   "metadata": {},
   "source": [
    "## 2. Chain of Thought (CoT)\n",
    "Movie Recommendation Asisstant using CoT"
   ]
  },
  {
   "cell_type": "code",
   "execution_count": 14,
   "metadata": {},
   "outputs": [],
   "source": [
    "# define list of movies\n",
    "\n",
    "movies = \"\"\"\n",
    "The Enigma Code\n",
    "Category: Historical Drama\n",
    "Rating: 8.3/10\n",
    "Description: Set during World War II, this gripping historical drama follows the life of Alan Turing, a brilliant mathematician tasked with cracking the Enigma code used by the Nazis. His efforts contribute significantly to the Allies' victory.\n",
    "Actors: Benedict Cumberbatch, Keira Knightley, Matthew Goode\n",
    "Language: English\n",
    "Release Date: March 15, 2014\n",
    "Award Winner: Academy Award for Best Adapted Screenplay\n",
    "\n",
    "Shadows of the Samurai\n",
    "Category: Action/Adventure\n",
    "Rating: 7.9/10\n",
    "Description: In feudal Japan, a skilled samurai seeks vengeance against the corrupt warlord who murdered his master. With his swordsmanship and determination, he embarks on a dangerous journey to restore justice.\n",
    "Actors: Ken Watanabe, Tadanobu Asano, Rinko Kikuchi\n",
    "Language: Japanese\n",
    "Release Date: November 7, 2017\n",
    "Award Winner: None\n",
    "\n",
    "Mind Games\n",
    "Category: Psychological Thriller\n",
    "Rating: 8.1/10\n",
    "Description: A renowned psychologist becomes entangled in a twisted game of cat and mouse with a patient who harbors dark secrets. As their sessions progress, the lines between reality and deception blur, leading to a mind-bending climax.\n",
    "Actors: Leonardo DiCaprio, Natalie Portman, Michael Fassbender\n",
    "Language: English\n",
    "Release Date: August 22, 2019\n",
    "Award Winner: None\n",
    "\n",
    "La Casa del Tango\n",
    "Category: Musical/Drama\n",
    "Rating: 8.7/10\n",
    "Description: In the vibrant world of Buenos Aires, a passionate tango dancer finds love and inspiration amidst the backdrop of political unrest. This musical drama explores the power of dance and the pursuit of dreams.\n",
    "Actors: Antonio Banderas, Penélope Cruz, Javier Bardem\n",
    "Language: Spanish\n",
    "Release Date: June 5, 2020\n",
    "Award Winner: Golden Globe for Best Foreign Language Film\n",
    "\n",
    "Timeless Love\n",
    "Category: Romance/Fantasy\n",
    "Rating: 7.5/10\n",
    "Description: A magical encounter transports a modern-day writer back in time to Victorian England, where she falls in love with a charming aristocrat. As they navigate the complexities of time, their love is put to the ultimate test.\n",
    "Actors: Rachel McAdams, Tom Hiddleston, Emma Thompson\n",
    "Language: English\n",
    "Release Date: February 14, 2022\n",
    "Award Winner: None\n",
    "\n",
    "The Pursuit of Justice\n",
    "Category: Legal Drama\n",
    "Rating: 8.4/10\n",
    "Description: Inspired by true events, this gripping legal drama follows a determined lawyer's fight against a powerful pharmaceutical company responsible for a life-threatening drug. The courtroom battle becomes a quest for justice and redemption.\n",
    "Actors: Denzel Washington, Viola Davis, Michael B. Jordan\n",
    "Language: English\n",
    "Release Date: October 10, 2022\n",
    "Award Winner: None\n",
    "\n",
    "The Forgotten Island\n",
    "Category: Adventure/Mystery\n",
    "Rating: 7.6/10\n",
    "Description: A group of explorers stumbles upon a mysterious island believed to be uninhabited. As they uncover the island's secrets, they encounter deadly challenges and unravel an ancient civilization's enigma.\n",
    "Actors: Chris Pratt, Bryce Dallas Howard, Tom Holland\n",
    "Language: English\n",
    "Release Date: July 2, 2023\n",
    "Award Winner: None\n",
    "\n",
    "The Silent Witness\n",
    "Category: Crime/Thriller\n",
    "Rating: 8.2/10\n",
    "Description: A talented forensic pathologist becomes entangled in a high-stakes murder investigation when she discovers crucial evidence that points to a powerful criminal network. With her life on the line, she must outsmart the perpetrators.\n",
    "Actors: Emily Blunt, Jake Gyllenhaal, Mark Ruffalo\n",
    "Language: English\n",
    "Release Date: November 18, 2023\n",
    "Award Winner: None\n",
    "\n",
    "A Tale of Two Worlds\n",
    "Category: Fantasy/Adventure\n",
    "Rating: 7.8/10\n",
    "Description: When a young orphan discovers a magical portal to a parallel universe, she embarks on a thrilling adventure to save both realms from an impending disaster. Along the way, she learns about the power of friendship and self-belief.\n",
    "Actors: Millie Bobby Brown, Tom Holland, Helena Bonham Carter\n",
    "Language: English\n",
    "Release Date: April 5, 2024\n",
    "Award Winner: None\n",
    "\n",
    "A Symphony of Souls\n",
    "Category: Music/Drama\n",
    "Rating: 9.0/10\n",
    "Description: Set against the backdrop of a renowned symphony orchestra, this emotionally charged drama explores the lives and intertwining stories of its members. Through the power of music, they find solace, love, and redemption.\n",
    "Actors: Meryl Streep, Tom Hanks, Cate Blanchett\n",
    "Language: English\n",
    "Release Date: December 25, 2024\n",
    "Award Winner: None\n",
    "\"\"\""
   ]
  },
  {
   "cell_type": "markdown",
   "metadata": {},
   "source": [
    "Then, define the steps need the model should performs.\n",
    "\n",
    "After that, we ask the model to provide the reasoning steps and the final answer."
   ]
  },
  {
   "cell_type": "markdown",
   "metadata": {},
   "source": [
    "### With"
   ]
  },
  {
   "cell_type": "code",
   "execution_count": 15,
   "metadata": {},
   "outputs": [
    {
     "name": "stdout",
     "output_type": "stream",
     "text": [
      "Step 1: The user is asking about movies.\n",
      "\n",
      "Step 2: The user is specifically asking for drama movies.\n",
      "\n",
      "Step 3: We have several drama movies available in our list, including \"The Enigma Code\", \"La Casa del Tango\", \"The Pursuit of Justice\", and \"A Symphony of Souls\".\n",
      "\n",
      "Step 4: Based on your request for drama movies, I would recommend the following options:\n",
      "\n",
      "1. \"The Enigma Code\": This historical drama set during World War II follows the life of Alan Turing, a brilliant mathematician tasked with cracking the Enigma code used by the Nazis. It has a rating of 8.3/10 and features actors like Benedict Cumberbatch and Keira Knightley.\n",
      "\n",
      "2. \"La Casa del Tango\": This musical drama is set in the vibrant world of Buenos Aires and explores the power of dance and the pursuit of dreams. It has a rating of 8.7/10 and features actors like Antonio Banderas and Penélope Cruz.\n",
      "\n",
      "3. \"The Pursuit of Justice\": This gripping legal drama is inspired by true events and follows a determined lawyer's fight against a powerful pharmaceutical company. It has a rating of 8.4/10 and features actors like Denzel Washington and Viola Davis.\n",
      "\n",
      "4. \"A Symphony of Souls\": This emotionally charged drama is set against the backdrop of a renowned symphony orchestra and explores the lives and intertwining stories of its members. It has a rating of 9.0/10 and features actors like Meryl Streep and Tom Hanks.\n",
      "\n",
      "I hope you find these recommendations interesting! Let me know if you need more information about any of these movies.\n"
     ]
    }
   ],
   "source": [
    "system_message = \"\"\"\n",
    "Your task is to make movie recommendation based on a user request (delimited by ```).\n",
    "\n",
    "Step 1: Check if the user is asking about movies. If the user is not asking about movies, just respond \"Please ask something about movies!\".\n",
    "\n",
    "Step 2: If the user is asking for a movie recommendation, check if they have any specific requests or interests.\n",
    "\n",
    "Step 3: Check if there are any movie/s we can recommend from the following: {movies}\n",
    "\n",
    "Step 4: Prepare a response to the user with the movie recommendation/s. The recommendation have to be about movies that are available in the list above. The response needs to have a friendly and helpful tone.\n",
    "\n",
    "Return a response with the following reasoning steps and final answer to the user:\n",
    "Step 1: <Step 1 reasoning>\n",
    "Step 2: <Step 2 reasoning>\n",
    "Step 3: <Step 3 reasoning>\n",
    "Step 4: <Step 4 reasoning>\n",
    "\"\"\"\n",
    "\n",
    "\n",
    "message = [\n",
    "    {\n",
    "        \"role\": \"system\",\n",
    "        \"content\": system_message.format(movies=movies)\n",
    "    },\n",
    "    {\n",
    "        \"role\": \"user\",\n",
    "        \"content\": \"```Do you have any drama movies?```\"\n",
    "    }\n",
    "]\n",
    "\n",
    "movie_recommendation_response = get_completion(message, temperature=0, max_tokens=500)\n",
    "print(movie_recommendation_response)"
   ]
  },
  {
   "cell_type": "markdown",
   "metadata": {},
   "source": [
    "### Without"
   ]
  },
  {
   "cell_type": "code",
   "execution_count": 16,
   "metadata": {},
   "outputs": [
    {
     "name": "stdout",
     "output_type": "stream",
     "text": [
      "Yes, we have a wide selection of drama movies. Here are a few recommendations:\n",
      "\n",
      "1. \"The Shawshank Redemption\" - This classic drama follows the story of a man who is wrongly convicted of murder and his journey through the prison system.\n",
      "\n",
      "2. \"The Godfather\" - A gripping drama about the Corleone crime family and their struggles for power and control in the world of organized crime.\n",
      "\n",
      "3. \"Schindler's List\" - Based on a true story, this powerful drama tells the story of Oskar Schindler, a German businessman who saved the lives of more than a thousand Jewish refugees during the Holocaust.\n",
      "\n",
      "4. \"The Social Network\" - This drama explores the founding of Facebook and the legal battles and personal conflicts that arise as a result.\n",
      "\n",
      "5. \"A Beautiful Mind\" - A biographical drama about the life of mathematician John Nash, who struggles with mental illness while making groundbreaking contributions to the field of mathematics.\n",
      "\n",
      "These are just a few examples, but we have many more drama movies available. Let me know if you would like more recommendations!\n"
     ]
    }
   ],
   "source": [
    "system_message = \"\"\"\n",
    "Your task is to make movie recommendation based on a user request (delimited by ```).\n",
    "\"\"\"\n",
    "\n",
    "\n",
    "message = [\n",
    "    {\n",
    "        \"role\": \"system\",\n",
    "        \"content\": system_message.format(movies=movies)\n",
    "    },\n",
    "    {\n",
    "        \"role\": \"user\",\n",
    "        \"content\": \"```Do you have any drama movies?```\"\n",
    "    }\n",
    "]\n",
    "\n",
    "movie_recommendation_response = get_completion(message, temperature=0, max_tokens=500)\n",
    "print(movie_recommendation_response)"
   ]
  },
  {
   "cell_type": "markdown",
   "metadata": {},
   "source": [
    "## 3. Prompt Chaining\n",
    "How separate prompts to achieve a specific task.\n",
    "\n",
    "It different with CoT, where it list all the reasoning steps.\n",
    "\n",
    "While in `Prompt Chaining`, we ask the model to extract only the final response to the user."
   ]
  },
  {
   "cell_type": "code",
   "execution_count": 17,
   "metadata": {},
   "outputs": [
    {
     "name": "stdout",
     "output_type": "stream",
     "text": [
      "\"The Social Network\" - This drama explores the founding of Facebook and the legal battles and personal conflicts that arise as a result.\n"
     ]
    }
   ],
   "source": [
    "# Prompt 1: step by step reasoning (provided above)\n",
    "# prompt 2: extract only the final response to the user\n",
    "\n",
    "\n",
    "system_message_2 = \"\"\"\n",
    "You will be given a list of steps that a model has responded with. Your task is to extract only the full response in Step 4 from the following text: {movie_recommendation_response}\n",
    "\n",
    "Step 4:\n",
    "\"\"\"\n",
    "\n",
    "messages = [\n",
    "    {\n",
    "        \"role\": \"system\",\n",
    "        \"content\": system_message_2.format(movie_recommendation_response=movie_recommendation_response)\n",
    "    }\n",
    "]\n",
    "\n",
    "final_response = get_completion(messages, temperature=0)\n",
    "\n",
    "print(final_response)"
   ]
  },
  {
   "cell_type": "markdown",
   "metadata": {},
   "source": [
    "## 4. ReAct (Reasoning and Acting)\n",
    "Combining LLMs and external tools to achieve a task.\n",
    "\n",
    "In this example, use LLMs and SerpAPI (search engine)"
   ]
  },
  {
   "cell_type": "code",
   "execution_count": 18,
   "metadata": {},
   "outputs": [],
   "source": [
    "from langchain.agents import load_tools, AgentType, initialize_agent\n",
    "from langchain.llms import OpenAI\n",
    "\n",
    "# model\n",
    "llm = OpenAI(temperature=0)\n",
    "\n",
    "# tools\n",
    "tools = load_tools([\"serpapi\", \"llm-math\"], llm=llm)\n",
    "agent = initialize_agent(tools, llm, agent=AgentType.ZERO_SHOT_REACT_DESCRIPTION, verbose=True)"
   ]
  },
  {
   "cell_type": "code",
   "execution_count": 30,
   "metadata": {},
   "outputs": [
    {
     "name": "stdout",
     "output_type": "stream",
     "text": [
      "\n",
      "\n",
      "\u001b[1m> Entering new AgentExecutor chain...\u001b[0m\n",
      "\u001b[32;1m\u001b[1;3m I need to find out which team won the 2023 NBA finals\n",
      "Action: Search\n",
      "Action Input: \"2023 NBA finals winner\"\u001b[0m\n",
      "Observation: \u001b[36;1m\u001b[1;3m{'title': 'NBA', 'rankings': 'NBA Finals', 'thumbnail': 'https://serpapi.com/searches/657afc7187a0ee1a8d8767f1/images/3643ed19624701cc91b778a9614da8493f510090fb4f166ac8b9656d16bb4fa1.png'}\u001b[0m\n",
      "Thought:\u001b[32;1m\u001b[1;3m I now know the final answer\n",
      "Final Answer: Denver Nuggets\u001b[0m\n",
      "\n",
      "\u001b[1m> Finished chain.\u001b[0m\n"
     ]
    },
    {
     "data": {
      "text/plain": [
       "'Denver Nuggets'"
      ]
     },
     "execution_count": 30,
     "metadata": {},
     "output_type": "execute_result"
    }
   ],
   "source": [
    "agent.run(\"Which team won the 2023 NBA finals? Denver or LA Lakers or Chicago Bulls?\")"
   ]
  },
  {
   "cell_type": "markdown",
   "metadata": {},
   "source": [
    "## 5. Retrieval Augmentation Generation (RAG)\n",
    "Apply RAG"
   ]
  },
  {
   "cell_type": "code",
   "execution_count": 20,
   "metadata": {},
   "outputs": [],
   "source": [
    "from langchain.embeddings.openai import OpenAIEmbeddings\n",
    "from langchain.embeddings.cohere import CohereEmbeddings\n",
    "from langchain.text_splitter import CharacterTextSplitter\n",
    "from langchain.vectorstores.elastic_vector_search import ElasticVectorSearch\n",
    "from langchain.vectorstores import Chroma\n",
    "from langchain.docstore.document import Document\n",
    "from langchain.prompts import PromptTemplate\n",
    "\n",
    "from langchain.chains.qa_with_sources import load_qa_with_sources_chain\n",
    "from langchain.llms import OpenAI\n",
    "\n",
    "import urllib"
   ]
  },
  {
   "cell_type": "code",
   "execution_count": 21,
   "metadata": {},
   "outputs": [],
   "source": [
    "# load the data from github\n",
    "f = urllib.request.urlopen(\"https://raw.githubusercontent.com/comet-ml/comet-llmops/main/data/kar-gpt.txt\")\n",
    "text_data = f.read().decode(\"utf-8\")\n",
    "\n",
    "# split text into chunks\n",
    "text_splitter = CharacterTextSplitter(chunk_size=1000, chunk_overlap=0, separator=\" \")\n",
    "texts = text_splitter.split_text(text_data)\n",
    "\n",
    "# embeddings obtained from OpenAI\n",
    "embeddings = OpenAIEmbeddings()"
   ]
  },
  {
   "cell_type": "code",
   "execution_count": 22,
   "metadata": {},
   "outputs": [
    {
     "data": {
      "text/plain": [
       "{'output_text': ' This course is about understanding and appreciating how chat GPT works, and how to develop a transformer neural network. It requires proficiency in Python and some basic understanding of calculus and statistics.\\nSOURCES: 1, 7, 107, 108'}"
      ]
     },
     "execution_count": 22,
     "metadata": {},
     "output_type": "execute_result"
    }
   ],
   "source": [
    "# test search\n",
    "docsearch = Chroma.from_texts(texts, embeddings, metadatas=[{\"source\": str(i)} for i in range(len(texts))])\n",
    "\n",
    "query = \"What is the course about?\"\n",
    "docs = docsearch.similarity_search(query)\n",
    "\n",
    "chain = load_qa_with_sources_chain(OpenAI(temperature=0), chain_type=\"stuff\")\n",
    "chain({\"input_documents\": docs, \"question\": query}, return_only_outputs=True)"
   ]
  },
  {
   "cell_type": "markdown",
   "metadata": {},
   "source": [
    "### Reference:\n",
    "chain_type in Question-Answering: \n",
    "- https://towardsdatascience.com/\n",
    "- 4-ways-of-question-answering-in-langchain-188c6707cc5a\n",
    "- https://medium.com/@kbdhunga/enhancing-conversational-ai-the-power-of-langchains-question-answer-framework-4974e1cab3cf \n",
    "- https://www.youtube.com/watch?v=Xn85BkrVAyk\n",
    "- https://www.youtube.com/watch?v=OTL4CvDFlro\n",
    "- https://www.youtube.com/watch?v=DXmiJKrQIvg&t=1s\n",
    "\n",
    "1. Chain type = stuff\n",
    "2. Chain type = map_reduce\n",
    "3. Chain type = refine\n",
    "4. Chain type = map_rerank"
   ]
  },
  {
   "cell_type": "code",
   "execution_count": null,
   "metadata": {},
   "outputs": [],
   "source": []
  },
  {
   "cell_type": "code",
   "execution_count": null,
   "metadata": {},
   "outputs": [],
   "source": []
  }
 ],
 "metadata": {
  "kernelspec": {
   "display_name": "venv",
   "language": "python",
   "name": "python3"
  },
  "language_info": {
   "codemirror_mode": {
    "name": "ipython",
    "version": 3
   },
   "file_extension": ".py",
   "mimetype": "text/x-python",
   "name": "python",
   "nbconvert_exporter": "python",
   "pygments_lexer": "ipython3",
   "version": "3.11.3"
  }
 },
 "nbformat": 4,
 "nbformat_minor": 2
}
